{
  "nbformat": 4,
  "nbformat_minor": 0,
  "metadata": {
    "colab": {
      "name": "ML_Prac4_MLRbyGradient.ipynb",
      "provenance": [],
      "collapsed_sections": []
    },
    "kernelspec": {
      "name": "python3",
      "display_name": "Python 3"
    }
  },
  "cells": [
    {
      "cell_type": "markdown",
      "metadata": {
        "id": "cu6L5hUWrFWm",
        "colab_type": "text"
      },
      "source": [
        "roll no. : 18bce084\n",
        "name     : Kaushal B. Jani"
      ]
    },
    {
      "cell_type": "code",
      "metadata": {
        "id": "T3UuOAy9Hjrf",
        "colab_type": "code",
        "colab": {}
      },
      "source": [
        "import numpy as np\n",
        "from sklearn.preprocessing import StandardScaler\n",
        "from sklearn.datasets import load_boston\n",
        "from sklearn.metrics import mean_absolute_error\n",
        "from sklearn.metrics import mean_squared_error\n"
      ],
      "execution_count": 17,
      "outputs": []
    },
    {
      "cell_type": "markdown",
      "metadata": {
        "id": "7SyWFqZ6mH4x",
        "colab_type": "text"
      },
      "source": [
        "**multiple linear regression with Gradient Decent Method**"
      ]
    },
    {
      "cell_type": "code",
      "metadata": {
        "id": "Uei3srYaJZ34",
        "colab_type": "code",
        "colab": {}
      },
      "source": [
        "# this module is for  seperating testing and training data\n",
        "X,Y=load_boston(return_X_y=True)\n",
        "temp1=X[0:400,:]\n",
        "temp2=np.ones((temp1.shape[0],1))\n",
        "xtrain=np.append(temp2,temp1,axis=1)\n",
        "ytrain=Y[0:400]\n",
        "ytrain=ytrain.reshape((400,1))\n",
        "xtest=np.append(np.ones((X[400:500,:].shape[0],1)),X[400:500,:],axis=1)\n",
        "ytest=Y[400:500]\n",
        "ytest=ytest.reshape((100,1))\n",
        "\n",
        "scal=StandardScaler()\n",
        "scal.fit(xtrain)\n",
        "xtrain=scal.transform(xtrain)\n",
        "scal.fit(xtest)\n",
        "xtest=scal.transform(xtest)\n"
      ],
      "execution_count": 41,
      "outputs": []
    },
    {
      "cell_type": "code",
      "metadata": {
        "id": "ZnbSqteaNdxI",
        "colab_type": "code",
        "colab": {}
      },
      "source": [
        "# this module is for learing   multivairate linear  regression model \n",
        "\n",
        "theta = np.zeros((14,1),dtype=float)\n",
        "temp=theta.copy()\n",
        "ytrain=ytrain.reshape((400,1))\n",
        "lr=0.0001 # learning rate\n",
        "temp=xtrain@theta - ytrain\n",
        "for j in range(1,1000):\n",
        "  temp=xtrain@theta - ytrain\n",
        "  for i in range(0,14):\n",
        "    y=xtrain[:,i]\n",
        "    y=y.reshape((400,1))\n",
        "    temp1 = temp * y\n",
        "    x=(temp1.sum())/xtrain.shape[0]\n",
        "    theta[i]=theta[i]-(lr * x)\n",
        "\n"
      ],
      "execution_count": 42,
      "outputs": []
    },
    {
      "cell_type": "code",
      "metadata": {
        "id": "aarcVeC_LcOD",
        "colab_type": "code",
        "colab": {
          "base_uri": "https://localhost:8080/",
          "height": 295
        },
        "outputId": "f8de292a-ad0c-4fbf-f97f-0bffd4c6095d"
      },
      "source": [
        "ypred=xtest @ theta\n",
        "print(\"mean absolute error \",mean_absolute_error(ytest,ypred))\n",
        "print(\"mean squared error  \",mean_squared_error(ytest,ypred))\n",
        "print(theta)# showing the actual parameter of the  regression model"
      ],
      "execution_count": 43,
      "outputs": [
        {
          "output_type": "stream",
          "text": [
            "mean absolute error  15.501999999999963\n",
            "mean squared error   259.39223845088895\n",
            "[[ 0.        ]\n",
            " [-0.18675156]\n",
            " [ 0.21780977]\n",
            " [-0.25859133]\n",
            " [ 0.12619024]\n",
            " [-0.19948095]\n",
            " [ 0.60782201]\n",
            " [-0.18168749]\n",
            " [ 0.03480151]\n",
            " [-0.11087706]\n",
            " [-0.21023963]\n",
            " [-0.34351112]\n",
            " [ 0.10389375]\n",
            " [-0.54920477]]\n"
          ],
          "name": "stdout"
        }
      ]
    },
    {
      "cell_type": "code",
      "metadata": {
        "id": "CqWCkJ9LMy__",
        "colab_type": "code",
        "colab": {
          "base_uri": "https://localhost:8080/",
          "height": 281
        },
        "outputId": "cc0b9326-5656-44a6-971c-03efacddd8d9"
      },
      "source": [
        "import matplotlib.pyplot as plt\n",
        "from scipy.interpolate import make_interp_spline, BSpline\n",
        "plt.scatter(ytest,ypred,label=\"predicted\")\n",
        "plt.scatter(ytest,ytest-ypred,label=\"error\")\n",
        "plt.title(\"pred vs error\")\n",
        "plt.legend()\n",
        "plt.show()\n",
        "\n",
        "\n",
        "\n"
      ],
      "execution_count": 35,
      "outputs": [
        {
          "output_type": "display_data",
          "data": {
            "image/png": "[encoded data removed]",
            "text/plain": [
              "<Figure size 432x288 with 1 Axes>"
            ]
          },
          "metadata": {
            "tags": [],
            "needs_background": "light"
          }
        }
      ]
    },
    {
      "cell_type": "markdown",
      "metadata": {
        "id": "fBzWhWCVKTBL",
        "colab_type": "text"
      },
      "source": [
        "[[ 0.        ]\n",
        " [-1.1436985 ]\n",
        " [ 1.12189743]\n",
        " [ 0.35909117]\n",
        " [ 0.48498192]\n",
        " [-1.70616032]\n",
        " [ 3.58170511]\n",
        " [ 0.07553684]\n",
        " [-2.81564362]\n",
        " [ 3.05178355]\n",
        " [-1.97490878]\n",
        " [-1.79372747]\n",
        " [-0.05251438]\n",
        " [-3.50239008]] \n",
        " with lr=0.00001 and epoch = 10^5"
      ]
    },
    {
      "cell_type": "markdown",
      "metadata": {
        "id": "exYhPr8TluRQ",
        "colab_type": "text"
      },
      "source": [
        "**multiple linear regression with normal equation method**"
      ]
    },
    {
      "cell_type": "code",
      "metadata": {
        "id": "g1M20OCalttC",
        "colab_type": "code",
        "colab": {
          "base_uri": "https://localhost:8080/",
          "height": 295
        },
        "outputId": "8687cb7b-cbdd-4396-9026-6a8c7c90b43f"
      },
      "source": [
        "theta1=np.zeros((14,1))\n",
        "theta1=np.linalg.pinv(xtrain.T @ xtrain) @ xtrain.T @ ytrain\n",
        "\n",
        "ypred=xtest @ theta1\n",
        "\n",
        "print(theta1)#showing the parameter of the model\n",
        "print(\"mean absolute error \",mean_absolute_error(ytest,ypred))\n",
        "print(\"mean squared error  \",mean_squared_error(ytest,ypred))\n"
      ],
      "execution_count": 44,
      "outputs": [
        {
          "output_type": "stream",
          "text": [
            "[[ 0.        ]\n",
            " [-1.14370921]\n",
            " [ 1.12191092]\n",
            " [ 0.35913222]\n",
            " [ 0.48497247]\n",
            " [-1.7061696 ]\n",
            " [ 3.58169796]\n",
            " [ 0.07554815]\n",
            " [-2.8156326 ]\n",
            " [ 3.05189603]\n",
            " [-1.97502535]\n",
            " [-1.7937352 ]\n",
            " [-0.05252128]\n",
            " [-3.50239563]]\n",
            "mean absolute error  15.5019999999998\n",
            "mean squared error   268.7596056900782\n"
          ],
          "name": "stdout"
        }
      ]
    },
    {
      "cell_type": "code",
      "metadata": {
        "id": "Cg80JZkloFEp",
        "colab_type": "code",
        "colab": {
          "base_uri": "https://localhost:8080/",
          "height": 121
        },
        "outputId": "8d9404e4-8fd8-4c94-e32b-3b13da2c586b"
      },
      "source": [
        "temp1=X[0:400,:]\n",
        "temp2=np.ones((temp1.shape[0],1))\n",
        "xtrain=np.append(temp2,temp1,axis=1)\n",
        "ytrain=Y[0:400]\n",
        "y=ytrain\n",
        "xtest=np.append(np.ones((X[400:500,:].shape[0],1)),X[400:500,:],axis=1)\n",
        "ytest=Y[400:500]\n",
        "\n",
        "theta1=np.zeros((14,1))\n",
        "theta1=np.linalg.pinv(xtrain.T @ xtrain) @ xtrain.T @ ytrain\n",
        "\n",
        "ypred=xtest @ theta1\n",
        "\n",
        "print(theta1)#showing the parameter of the model\n",
        "print(\"mean absolute error \",mean_absolute_error(ytest,ypred))\n",
        "print(\"mean squared error  \",mean_squared_error(ytest,ypred))\n",
        "\n"
      ],
      "execution_count": 45,
      "outputs": [
        {
          "output_type": "stream",
          "text": [
            "[ 2.86725996e+01 -1.91246374e-01  4.42289967e-02  5.52207977e-02\n",
            "  1.71631351e+00 -1.49957220e+01  4.88773025e+00  2.60921031e-03\n",
            " -1.29480799e+00  4.84787214e-01 -1.54006673e-02 -8.08795026e-01\n",
            " -1.29230427e-03 -5.17953791e-01]\n",
            "mean absolute error  5.2028163789542115\n",
            "mean squared error   38.63887478858032\n"
          ],
          "name": "stdout"
        }
      ]
    },
    {
      "cell_type": "markdown",
      "metadata": {
        "id": "9G6u8EO-oTnH",
        "colab_type": "text"
      },
      "source": [
        "here in normal equation method if we scale data(in same range) like first cell than accuracy is not good but if we apply data without scaling accuracy is good which is far better than gradient decent method because in gd we have to tune hyper parameters. "
      ]
    }
  ]
}