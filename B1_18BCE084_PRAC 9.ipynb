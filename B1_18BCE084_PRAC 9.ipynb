{
  "nbformat": 4,
  "nbformat_minor": 0,
  "metadata": {
    "colab": {
      "name": "ML_prac9_perceptron.ipynb",
      "provenance": [],
      "collapsed_sections": []
    },
    "kernelspec": {
      "name": "python3",
      "display_name": "Python 3"
    }
  },
  "cells": [
    {
      "cell_type": "markdown",
      "metadata": {
        "id": "zu9lpok3PA2V"
      },
      "source": [
        "Kaushal Jani\n",
        "\n",
        "\n",
        "**practical 8**"
      ]
    },
    {
      "cell_type": "code",
      "metadata": {
        "id": "aMXLtApYnvbl"
      },
      "source": [
        "import numpy as np\n",
        "import pandas as pd\n",
        "import sklearn\n",
        "from sklearn import datasets\n",
        "import matplotlib.pyplot as plt\n"
      ],
      "execution_count": 11,
      "outputs": []
    },
    {
      "cell_type": "code",
      "metadata": {
        "id": "G5BIItiKolSp",
        "outputId": "478a75bb-d573-49d6-e769-73a9de8cda0b",
        "colab": {
          "base_uri": "https://localhost:8080/"
        }
      },
      "source": [
        "def hardlim(x):\n",
        "  return x>=0\n",
        "data=np.array([[0,0,0],[0,1,0],[1,0,0],[1,1,1]]); # AND gate DATA SET\n",
        "ndim=data.shape[1]-1\n",
        "datapoints=data.shape[0]\n",
        "W=np.random.random(size=2)\n",
        "b=np.random.random()\n",
        "epoch =50\n",
        "lr=0.01\n",
        "for i in range(0,epoch):\n",
        "  for j in data:\n",
        "    #print(j[:-1])\n",
        "    A=W.T @ j[:-1] + b\n",
        "    # hardlim\n",
        "    a= hardlim(A)\n",
        "    e=j[-1]-a\n",
        "    #print(e)    # for printing   classifiaction error\n",
        "    W=W + lr*e*W\n",
        "    b=b+ lr*e\n",
        "    \n",
        "print(W,b)\n",
        "predict= hardlim(data[:,:-1] @ W + b )\n",
        "predict "
      ],
      "execution_count": 12,
      "outputs": [
        {
          "output_type": "stream",
          "text": [
            "[0.04301146 0.34844268] -0.2937060313230306\n"
          ],
          "name": "stdout"
        },
        {
          "output_type": "execute_result",
          "data": {
            "text/plain": [
              "array([False,  True, False,  True])"
            ]
          },
          "metadata": {
            "tags": []
          },
          "execution_count": 12
        }
      ]
    },
    {
      "cell_type": "markdown",
      "metadata": {
        "id": "QWnk9_nxCz7r"
      },
      "source": [
        "**Mutifeature classification**"
      ]
    },
    {
      "cell_type": "code",
      "metadata": {
        "id": "c_nQDCOEzjGq",
        "outputId": "1a3a422a-1390-4747-bb29-4f408296b5d4",
        "colab": {
          "base_uri": "https://localhost:8080/",
          "height": 503
        }
      },
      "source": [
        "X,Y = datasets.load_iris(return_X_y=True)\n",
        "\n",
        "data=X[:100,:]\n",
        "target=Y[:100]\n",
        "#print(data)\n",
        "plt.scatter(data[:,0],target)\n",
        "plt.scatter(data[:,1],target)\n",
        "plt.scatter(data[:,2],target)\n",
        "plt.scatter(data[:,3],target)\n",
        "plt.show()\n",
        "\n",
        "dpoints = data.shape[0]\n",
        "ndim=data.shape[1]\n",
        "\n",
        "W=np.random.random(size=ndim)\n",
        "b=np.random.random()\n",
        "epoch =100\n",
        "lr=0.01\n",
        "for i in range(0,epoch):\n",
        "  for j in range(0,dpoints):\n",
        "    #print(j[:-1])\n",
        "    A=W.T @ data[i] + b\n",
        "    # hardlim\n",
        "    a= hardlim(A)\n",
        "    e=target[i]-a\n",
        "    #print(e)\n",
        "    W=W + lr*e*W\n",
        "    b=b+ lr*e\n",
        "    \n",
        "print(\"weights and bias are \",W,b)\n",
        "print()\n",
        "test = data[10:15,:] \n",
        "test = np.append(test,data[60:65,:],axis=0) \n",
        "print(\"test data\",test)\n",
        "print(\"actual lable \",np.append(Y[10:15],Y[60:65]))\n",
        "predict= hardlim(test @ W + b )\n",
        "print(\"prediction is \",predict) "
      ],
      "execution_count": 15,
      "outputs": [
        {
          "output_type": "display_data",
          "data": {
            "image/png": "[encoded data removed]",
            "text/plain": [
              "<Figure size 432x288 with 1 Axes>"
            ]
          },
          "metadata": {
            "tags": [],
            "needs_background": "light"
          }
        },
        {
          "output_type": "stream",
          "text": [
            "weights and bias are  [0.06716511 0.13121804 0.08558067 0.13361342] -1.0285693723326206\n",
            "\n",
            "test data [[5.4 3.7 1.5 0.2]\n",
            " [4.8 3.4 1.6 0.2]\n",
            " [4.8 3.  1.4 0.1]\n",
            " [4.3 3.  1.1 0.1]\n",
            " [5.8 4.  1.2 0.2]\n",
            " [5.  2.  3.5 1. ]\n",
            " [5.9 3.  4.2 1.5]\n",
            " [6.  2.2 4.  1. ]\n",
            " [6.1 2.9 4.7 1.4]\n",
            " [5.6 2.9 3.6 1.3]]\n",
            "actual lable  [0 0 0 0 0 1 1 1 1 1]\n",
            "prediction is  [False False False False  True  True  True  True  True  True]\n"
          ],
          "name": "stdout"
        }
      ]
    }
  ]
}