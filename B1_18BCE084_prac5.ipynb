{
  "nbformat": 4,
  "nbformat_minor": 0,
  "metadata": {
    "colab": {
      "name": "KNN_ML.ipynb",
      "provenance": [],
      "collapsed_sections": []
    },
    "kernelspec": {
      "name": "python3",
      "display_name": "Python 3"
    }
  },
  "cells": [
    {
      "cell_type": "markdown",
      "metadata": {
        "id": "bPuYKy-YbLFI"
      },
      "source": [
        "18bce084\n",
        "\n",
        "Kaushal Jani\n",
        "\n",
        "Practical 5\n"
      ]
    },
    {
      "cell_type": "code",
      "metadata": {
        "id": "ZI3vdfRDUVqw"
      },
      "source": [
        "import sklearn\n",
        "from sklearn import neighbors,datasets,metrics\n",
        "from sklearn.metrics import mean_absolute_error,mean_squared_error\n",
        "import numpy as np"
      ],
      "execution_count": 22,
      "outputs": []
    },
    {
      "cell_type": "code",
      "metadata": {
        "id": "nXkRN914VSlq",
        "outputId": "ff29f7e0-cc15-4d0f-84d0-89cbd22765e0",
        "colab": {
          "base_uri": "https://localhost:8080/",
          "height": 745
        }
      },
      "source": [
        "X,Y=datasets.load_iris(return_X_y=True)   #loading iris dataset\n",
        "xtrain = X[range(0,150,2),:]\n",
        "ytrain = Y[range(0,150,2)]\n",
        "xtest  = X[range(1,150,2),:]\n",
        "ytest  = Y[range(0,150,2)]\n",
        "\n",
        "\n",
        "k=3\n",
        "x=int(input(\" enter limit value of k  for knn classification \")) # enter stopping value of k\n",
        "print()\n",
        "if x<=xtrain.shape[0]:\n",
        "  if x%2==0:\n",
        "    k=x-1\n",
        "  else:\n",
        "    k=x\n",
        "\n",
        "for i in range(3,k+2,2):\n",
        "  clf=neighbors.KNeighborsClassifier(i,'uniform')\n",
        "  clf.fit(xtrain,ytrain)\n",
        "  ypred=clf.predict(xtest)\n",
        "  print(\"For K = \",i)\n",
        "  print(\"accuracy is\",metrics.accuracy_score(ytest,ypred))\n",
        "  print(\"MAE is \",metrics.mean_absolute_error(ytest,ypred))\n",
        "  print(\"MSE is \",metrics.mean_squared_error(ytest,ypred))\n",
        "  print()\n",
        "\n"
      ],
      "execution_count": 38,
      "outputs": [
        {
          "output_type": "stream",
          "text": [
            " enter limit value of k  for knn classification 17\n",
            "\n",
            "For K =  3\n",
            "accuracy is 0.96\n",
            "MAE is  0.04\n",
            "MSE is  0.04\n",
            "\n",
            "For K =  5\n",
            "accuracy is 0.9866666666666667\n",
            "MAE is  0.013333333333333334\n",
            "MSE is  0.013333333333333334\n",
            "\n",
            "For K =  7\n",
            "accuracy is 0.9866666666666667\n",
            "MAE is  0.013333333333333334\n",
            "MSE is  0.013333333333333334\n",
            "\n",
            "For K =  9\n",
            "accuracy is 0.9866666666666667\n",
            "MAE is  0.013333333333333334\n",
            "MSE is  0.013333333333333334\n",
            "\n",
            "For K =  11\n",
            "accuracy is 0.92\n",
            "MAE is  0.08\n",
            "MSE is  0.08\n",
            "\n",
            "For K =  13\n",
            "accuracy is 0.9466666666666667\n",
            "MAE is  0.05333333333333334\n",
            "MSE is  0.05333333333333334\n",
            "\n",
            "For K =  15\n",
            "accuracy is 0.92\n",
            "MAE is  0.08\n",
            "MSE is  0.08\n",
            "\n",
            "For K =  17\n",
            "accuracy is 0.92\n",
            "MAE is  0.08\n",
            "MSE is  0.08\n",
            "\n"
          ],
          "name": "stdout"
        }
      ]
    },
    {
      "cell_type": "markdown",
      "metadata": {
        "id": "BmP8WNNgYakH"
      },
      "source": [
        "Custom Implementation of KNN with cosine similarity as distance metric"
      ]
    },
    {
      "cell_type": "code",
      "metadata": {
        "id": "qrua7flDYXtd",
        "outputId": "76921c5b-b252-4da1-d03f-9d6dbb13b0a2",
        "colab": {
          "base_uri": "https://localhost:8080/",
          "height": 35
        }
      },
      "source": [
        "X,Y=datasets.load_iris(return_X_y=True)\n",
        "\n",
        "xtrain=np.append(np.append(X[0:44,:],X[50:94,:],axis=0),X[100:144,:],axis=0)\n",
        "ytrain=np.append(np.append(Y[0:44],Y[50:94],axis=0),Y[100:144],axis=0)\n",
        "xtest=np.append(np.append(X[45:50,:],X[95:100,:],axis=0),X[145:150,:],axis=0)\n",
        "ytest=np.append(np.append(Y[45:50],Y[95:100],axis=0),Y[145:150],axis=0)\n",
        "#print(ytest.shape)\n",
        "print(xtrain.shape)"
      ],
      "execution_count": 39,
      "outputs": [
        {
          "output_type": "stream",
          "text": [
            "(132, 4)\n"
          ],
          "name": "stdout"
        }
      ]
    },
    {
      "cell_type": "code",
      "metadata": {
        "id": "7wfdczO9c51A",
        "outputId": "0d0a516d-145b-4693-b350-f5db6f562d6d",
        "colab": {
          "base_uri": "https://localhost:8080/",
          "height": 849
        }
      },
      "source": [
        "def sim(test,row):\n",
        "  return test @ row/(np.linalg.norm(test) * np.linalg.norm(row))\n",
        "\n",
        "def custom_knn(k):\n",
        "  print(\"For {0}nn\".format(k))      \n",
        "  result=[]\n",
        "  li=[]                 # to store value of cosine similarity\n",
        "  temp={}               #  for stoirng first N result\n",
        "  for i in range(0,k):\n",
        "    temp[i]=0\n",
        "  #print(temp)\n",
        "  t=temp.copy()\n",
        "\n",
        "\n",
        "  for i in xtest:\n",
        "    li=list()\n",
        "    count=0\n",
        "    temp=t.copy()\n",
        "    for j in range(0,132) :\n",
        "      li.append([sim(i,xtrain[j,:]),ytrain[j]])    # append cosine similarity of each input\n",
        "      \n",
        "    li.sort(reverse=True) \n",
        "    for s in range(0,k):                            # adds the the first n result with respect to their class\n",
        "      temp[li[s][1]]=li[s][0]+temp[li[s][1]]\n",
        "    result.append([i,max(temp,key=temp.get)])       \n",
        "\n",
        "  ypred=[]\n",
        "  for j in result:\n",
        "    ypred.append(j[1])\n",
        "\n",
        "  print(\"accuracy\",metrics.accuracy_score(ytest,ypred))\n",
        "  print(\"MAE\",metrics.mean_absolute_error(ytest,ypred))\n",
        "  print(\"MSE\",metrics.mean_squared_error(ytest,ypred))\n",
        "  print(\"Actual class\",ytest)\n",
        "  print(\"Predicted class\",ypred)\n",
        "  for j in result:\n",
        "    print(\"example is \",j[0],\"predicted class is\",j[1])\n",
        "  print(\"--------------------------------------------------------------------\")\n",
        "  print()\n",
        "\n",
        "############################################################\n",
        "\n",
        "k=3\n",
        "x=int(input(\" enter limit value of k  for knn classification \")) # enter stopping value of k\n",
        "print()\n",
        "if x<=xtrain.shape[0]:\n",
        "  if x%2==0:\n",
        "    k=x-1\n",
        "  else:\n",
        "    k=x\n",
        "for i in range(3,k+2,2):\n",
        "  custom_knn(i)"
      ],
      "execution_count": 46,
      "outputs": [
        {
          "output_type": "stream",
          "text": [
            " enter limit value of k  for knn classification 5\n",
            "\n",
            "For 3nn\n",
            "accuracy 1.0\n",
            "MAE 0.0\n",
            "MSE 0.0\n",
            "Actual class [0 0 0 0 0 1 1 1 1 1 2 2 2 2 2]\n",
            "Predicted class [0, 0, 0, 0, 0, 1, 1, 1, 1, 1, 2, 2, 2, 2, 2]\n",
            "example is  [4.8 3.  1.4 0.3] predicted class is 0\n",
            "example is  [5.1 3.8 1.6 0.2] predicted class is 0\n",
            "example is  [4.6 3.2 1.4 0.2] predicted class is 0\n",
            "example is  [5.3 3.7 1.5 0.2] predicted class is 0\n",
            "example is  [5.  3.3 1.4 0.2] predicted class is 0\n",
            "example is  [5.7 3.  4.2 1.2] predicted class is 1\n",
            "example is  [5.7 2.9 4.2 1.3] predicted class is 1\n",
            "example is  [6.2 2.9 4.3 1.3] predicted class is 1\n",
            "example is  [5.1 2.5 3.  1.1] predicted class is 1\n",
            "example is  [5.7 2.8 4.1 1.3] predicted class is 1\n",
            "example is  [6.7 3.  5.2 2.3] predicted class is 2\n",
            "example is  [6.3 2.5 5.  1.9] predicted class is 2\n",
            "example is  [6.5 3.  5.2 2. ] predicted class is 2\n",
            "example is  [6.2 3.4 5.4 2.3] predicted class is 2\n",
            "example is  [5.9 3.  5.1 1.8] predicted class is 2\n",
            "--------------------------------------------------------------------\n",
            "\n",
            "For 5nn\n",
            "accuracy 1.0\n",
            "MAE 0.0\n",
            "MSE 0.0\n",
            "Actual class [0 0 0 0 0 1 1 1 1 1 2 2 2 2 2]\n",
            "Predicted class [0, 0, 0, 0, 0, 1, 1, 1, 1, 1, 2, 2, 2, 2, 2]\n",
            "example is  [4.8 3.  1.4 0.3] predicted class is 0\n",
            "example is  [5.1 3.8 1.6 0.2] predicted class is 0\n",
            "example is  [4.6 3.2 1.4 0.2] predicted class is 0\n",
            "example is  [5.3 3.7 1.5 0.2] predicted class is 0\n",
            "example is  [5.  3.3 1.4 0.2] predicted class is 0\n",
            "example is  [5.7 3.  4.2 1.2] predicted class is 1\n",
            "example is  [5.7 2.9 4.2 1.3] predicted class is 1\n",
            "example is  [6.2 2.9 4.3 1.3] predicted class is 1\n",
            "example is  [5.1 2.5 3.  1.1] predicted class is 1\n",
            "example is  [5.7 2.8 4.1 1.3] predicted class is 1\n",
            "example is  [6.7 3.  5.2 2.3] predicted class is 2\n",
            "example is  [6.3 2.5 5.  1.9] predicted class is 2\n",
            "example is  [6.5 3.  5.2 2. ] predicted class is 2\n",
            "example is  [6.2 3.4 5.4 2.3] predicted class is 2\n",
            "example is  [5.9 3.  5.1 1.8] predicted class is 2\n",
            "--------------------------------------------------------------------\n",
            "\n"
          ],
          "name": "stdout"
        }
      ]
    }
  ]
}