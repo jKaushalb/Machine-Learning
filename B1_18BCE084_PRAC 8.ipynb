{
  "nbformat": 4,
  "nbformat_minor": 0,
  "metadata": {
    "colab": {
      "name": "B1_18bce084_prac_8.ipynb",
      "provenance": [],
      "collapsed_sections": []
    },
    "kernelspec": {
      "name": "python3",
      "display_name": "Python 3"
    }
  },
  "cells": [
    {
      "cell_type": "markdown",
      "metadata": {
        "id": "Kd4ShwFw_Yy-"
      },
      "source": [
        "Kaushal Jani\n",
        "\n",
        "**Practical 8** "
      ]
    },
    {
      "cell_type": "markdown",
      "metadata": {
        "id": "sNHpYxke_1ur"
      },
      "source": [
        "**Liner SVM**"
      ]
    },
    {
      "cell_type": "code",
      "metadata": {
        "id": "l5eiQjfZ_H9T"
      },
      "source": [
        "import sklearn\n",
        "from sklearn import svm,datasets,metrics"
      ],
      "execution_count": 1,
      "outputs": []
    },
    {
      "cell_type": "code",
      "metadata": {
        "id": "UY9utA5R_sZg",
        "outputId": "f11696bb-6e3a-4ab4-c4d5-1c3c34ad9b29",
        "colab": {
          "base_uri": "https://localhost:8080/"
        }
      },
      "source": [
        "X,Y = datasets.load_iris(return_X_y=True)\n",
        "xtrain  = X[range(0,150,2),:]\n",
        "ytrain  = Y[range(0,150,2)]\n",
        "xtest   = X[range(1,150,2),:]\n",
        "ytest  = Y[range(1,150,2)]\n",
        "\n",
        "\n",
        "# linear svm\n",
        "\n",
        "clf = svm.LinearSVC()\n",
        "clf.fit(xtrain,ytrain)\n",
        "ypred=clf.predict(xtest)\n",
        "print(\"ACCURACY \",metrics.accuracy_score(ytest,ypred))\n",
        "print(\"REPORT \",metrics.classification_report(ytest,ypred))\n",
        "print(\"Confusion Metrix \",metrics.confusion_matrix(ytest,ypred))\n"
      ],
      "execution_count": 2,
      "outputs": [
        {
          "output_type": "stream",
          "text": [
            "ACCURACY  0.96\n",
            "REPORT                precision    recall  f1-score   support\n",
            "\n",
            "           0       1.00      1.00      1.00        25\n",
            "           1       0.92      0.96      0.94        25\n",
            "           2       0.96      0.92      0.94        25\n",
            "\n",
            "    accuracy                           0.96        75\n",
            "   macro avg       0.96      0.96      0.96        75\n",
            "weighted avg       0.96      0.96      0.96        75\n",
            "\n",
            "Confusion Metrix  [[25  0  0]\n",
            " [ 0 24  1]\n",
            " [ 0  2 23]]\n"
          ],
          "name": "stdout"
        },
        {
          "output_type": "stream",
          "text": [
            "/usr/local/lib/python3.6/dist-packages/sklearn/svm/_base.py:947: ConvergenceWarning: Liblinear failed to converge, increase the number of iterations.\n",
            "  \"the number of iterations.\", ConvergenceWarning)\n"
          ],
          "name": "stderr"
        }
      ]
    },
    {
      "cell_type": "markdown",
      "metadata": {
        "id": "1ZCzmKOZAUVZ"
      },
      "source": [
        "**Grid** **Search**"
      ]
    },
    {
      "cell_type": "code",
      "metadata": {
        "id": "unQTz_dTAP6o"
      },
      "source": [
        "import numpy as np\n",
        "import sklearn\n",
        "from sklearn import datasets,metrics,neighbors\n",
        "from sklearn.model_selection import GridSearchCV\n",
        "from sklearn.linear_model import Ridge\n",
        "from sklearn.linear_model import SGDClassifier\n",
        "from sklearn.linear_model import LinearRegression\n",
        "from sklearn.model_selection import train_test_split\n",
        "from sklearn.preprocessing import StandardScaler"
      ],
      "execution_count": 4,
      "outputs": []
    },
    {
      "cell_type": "markdown",
      "metadata": {
        "id": "R2kwvzIHAaKR"
      },
      "source": [
        "Grid search for knn"
      ]
    },
    {
      "cell_type": "code",
      "metadata": {
        "id": "tiXvrvsVAOqR",
        "outputId": "5e41a831-d2fa-4eb2-95fd-f7d25cb42de4",
        "colab": {
          "base_uri": "https://localhost:8080/"
        }
      },
      "source": [
        "X,Y =datasets.load_iris(return_X_y=True)\n",
        "xtrain=X[range(0,150,2),:]\n",
        "xtest=X[range(1,150,2),:]\n",
        "ytrain=Y[range(0,150,2)]\n",
        "ytest=Y[range(1,150,2)]\n",
        "\n",
        "clf = neighbors.KNeighborsClassifier()\n",
        "grid = {'n_neighbors':[1,5,7,11,17],'weights':['distance','uniform']}\n",
        "gs = GridSearchCV(clf,param_grid=grid,cv=5)\n",
        "clf=gs\n",
        "clf.fit(xtrain,ytrain)\n",
        "print(\"best params are\\n\"+str(clf.best_params_))\n",
        "ypred=clf.predict(xtest)\n",
        "print(\"Actual:\",ytest)\n",
        "print(\"Predicted:\",ypred)\n",
        "print(metrics.classification_report(ytest,ypred))\n",
        "print(metrics.confusion_matrix(ytest,ypred))\n",
        "print(\"\\n accuracy\",metrics.accuracy_score(ytest,ypred))"
      ],
      "execution_count": 6,
      "outputs": [
        {
          "output_type": "stream",
          "text": [
            "best params are\n",
            "{'n_neighbors': 5, 'weights': 'distance'}\n",
            "Actual: [0 0 0 0 0 0 0 0 0 0 0 0 0 0 0 0 0 0 0 0 0 0 0 0 0 1 1 1 1 1 1 1 1 1 1 1 1\n",
            " 1 1 1 1 1 1 1 1 1 1 1 1 1 2 2 2 2 2 2 2 2 2 2 2 2 2 2 2 2 2 2 2 2 2 2 2 2\n",
            " 2]\n",
            "Predicted: [0 0 0 0 0 0 0 0 0 0 0 0 0 0 0 0 0 0 0 0 0 0 0 0 0 1 1 1 1 1 1 1 1 1 1 1 1\n",
            " 1 1 1 1 2 1 1 1 1 1 1 1 1 2 2 2 2 2 2 2 2 2 2 2 2 2 2 2 2 2 2 2 2 2 2 2 2\n",
            " 2]\n",
            "              precision    recall  f1-score   support\n",
            "\n",
            "           0       1.00      1.00      1.00        25\n",
            "           1       1.00      0.96      0.98        25\n",
            "           2       0.96      1.00      0.98        25\n",
            "\n",
            "    accuracy                           0.99        75\n",
            "   macro avg       0.99      0.99      0.99        75\n",
            "weighted avg       0.99      0.99      0.99        75\n",
            "\n",
            "[[25  0  0]\n",
            " [ 0 24  1]\n",
            " [ 0  0 25]]\n",
            "\n",
            " accuracy 0.9866666666666667\n"
          ],
          "name": "stdout"
        }
      ]
    },
    {
      "cell_type": "markdown",
      "metadata": {
        "id": "lT-ZBW6NAnk5"
      },
      "source": [
        "Grid search for multiple regression"
      ]
    },
    {
      "cell_type": "code",
      "metadata": {
        "id": "uT-YtsFrAmrT",
        "outputId": "157f99a7-44b6-4609-a2ee-0203ffe7ced1",
        "colab": {
          "base_uri": "https://localhost:8080/"
        }
      },
      "source": [
        "X,Y=datasets.load_boston(return_X_y=True)\n",
        "temp=np.ones(shape=(300,1))\n",
        "xtrain=X[0:300,:]\n",
        "xtrain=np.append(temp,xtrain,axis=1)\n",
        "#print(xtrain[:10,:])\n",
        "ytrain=Y[0:300]\n",
        "ytrain=ytrain.astype('int')\n",
        "xtest=np.append(np.ones(shape=(206,1)),X[300:,:],axis=1)\n",
        "ytest=Y[300:]\n",
        "ytest=ytest.astype('int')\n",
        "\n",
        "model=StandardScaler()\n",
        "model.fit(xtest)\n",
        "xtest=model.transform(xtest)\n",
        "model.fit(xtrain)\n",
        "xtrain=model.transform(xtrain)\n",
        "\n",
        "param_grid = {'alpha': [100, 1000, 10000], 'max_iter': [100,5000, 500]}\n",
        "clf = SGDClassifier()\n",
        "gs = GridSearchCV(clf, param_grid, cv=5)\n",
        "clf=gs\n",
        "clf.fit(xtrain, ytrain)\n",
        "print(clf.best_params_)\n",
        "ypred=clf.predict(xtest)\n",
        "print(ypred)\n",
        "print(\"MSE \",metrics.mean_squared_error(ytest,ypred));\n",
        "print(\"MSA \",metrics.mean_absolute_error(ytest,ypred));\n"
      ],
      "execution_count": 7,
      "outputs": [
        {
          "output_type": "stream",
          "text": [
            "/usr/local/lib/python3.6/dist-packages/sklearn/model_selection/_split.py:667: UserWarning: The least populated class in y has only 1 members, which is less than n_splits=5.\n",
            "  % (min_groups, self.n_splits)), UserWarning)\n"
          ],
          "name": "stderr"
        },
        {
          "output_type": "stream",
          "text": [
            "{'alpha': 10000, 'max_iter': 500}\n",
            "[15 15 15 15 15 15 15 15 15 15 15 15 15 15 15 15 15 15 15 15 15 15 15 15\n",
            " 15 15 15 15 15 15 15 15 15 15 15 15 15 15 15 15 15 15 15 15 15 15 15 15\n",
            " 15 15 15 15 15 15 15 15 15 15 15 15 15 15 15 15 15 15 15 15 15 15 15 15\n",
            " 15 15 15 15 15 15 15 15 15 15 15 15 15 15 15 15 15 15 15 15 15 15 15 15\n",
            " 15 15 15 15 15 15 15 15 15 15 15 15 15 15 15 15 15 15 15 15 15 15 15 15\n",
            " 15 15 15 15 15 15 15 15 15 15 15 15 15 15 15 15 15 15 15 15 15 15 15 15\n",
            " 15 15 15 15 15 15 15 15 15 15 15 15 15 15 15 15 15 15 15 15 15 15 15 15\n",
            " 15 15 15 15 15 15 15 15 15 15 15 15 15 15 15 15 15 15 15 15 15 15 15 15\n",
            " 15 15 15 15 15 15 15 15 15 15 15 15 15 15]\n",
            "MSE  70.16990291262135\n",
            "MSA  6.004854368932039\n"
          ],
          "name": "stdout"
        }
      ]
    }
  ]
}