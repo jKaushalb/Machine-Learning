{
  "nbformat": 4,
  "nbformat_minor": 0,
  "metadata": {
    "colab": {
      "name": "MLPclassification.ipynb",
      "provenance": [],
      "collapsed_sections": []
    },
    "kernelspec": {
      "name": "python3",
      "display_name": "Python 3"
    }
  },
  "cells": [
    {
      "cell_type": "markdown",
      "metadata": {
        "id": "sxWy3vOrO3JN"
      },
      "source": [
        "Kaushal Jani\n",
        "\n",
        "18BCE084\n",
        "\n",
        "Practical 10"
      ]
    },
    {
      "cell_type": "code",
      "metadata": {
        "id": "pwHr7uK24q-w"
      },
      "source": [
        "import numpy as np\n",
        "import sklearn\n",
        "from sklearn.neural_network import MLPClassifier\n",
        "from sklearn.metrics import accuracy_score,confusion_matrix\n",
        "from sklearn import datasets\n",
        "from sklearn.cluster import KMeans\n",
        "from matplotlib import pyplot as plt"
      ],
      "execution_count": 8,
      "outputs": []
    },
    {
      "cell_type": "markdown",
      "metadata": {
        "id": "KcAmgQlwbHb-"
      },
      "source": [
        "MLP classifier"
      ]
    },
    {
      "cell_type": "code",
      "metadata": {
        "id": "A7R9RSWK5LTx",
        "colab": {
          "base_uri": "https://localhost:8080/"
        },
        "outputId": "3df8dafd-a6c8-4241-9993-a03e6dc6eaac"
      },
      "source": [
        "X,Y=datasets.load_iris(return_X_y=True)\n",
        "xtrain=X[range(0,150,2),:]\n",
        "xtest=X[range(1,150,2),:]\n",
        "\n",
        "ytrain=Y[range(0,150,2)]\n",
        "\n",
        "ytest=Y[range(1,150,2)]\n",
        "clf=MLPClassifier(hidden_layer_sizes=(68),activation='logistic',solver='sgd',alpha=0.001,max_iter=1000)\n",
        "clf.fit(xtrain,ytrain)\n",
        "ypred=clf.predict(xtest)\n",
        "print(\"predictions are \",ypred)\n",
        "print(\"confusion matrix \",confusion_matrix(ytest,ypred))\n",
        "print(\"accuracy score\",accuracy_score(ytest,ypred))\n",
        "print(\"probability values \\n\",clf.predict_proba(xtest))\n"
      ],
      "execution_count": 25,
      "outputs": [
        {
          "output_type": "stream",
          "text": [
            "predictions are  [0 0 0 0 0 0 0 0 0 0 0 0 0 0 0 0 0 0 0 0 0 0 0 0 0 1 1 1 1 1 1 2 1 1 1 1 1\n",
            " 1 2 1 1 2 1 1 1 1 1 1 1 1 2 2 2 2 2 2 2 2 2 2 2 2 2 2 2 2 2 2 2 2 2 2 2 2\n",
            " 2]\n",
            "confusion matrix  [[25  0  0]\n",
            " [ 0 22  3]\n",
            " [ 0  0 25]]\n",
            "accuracy score 0.96\n",
            "probability values \n",
            " [[0.7883102  0.16539819 0.04629161]\n",
            " [0.77924914 0.17159804 0.04915282]\n",
            " [0.80096628 0.15579576 0.04323796]\n",
            " [0.80400892 0.15416624 0.04182484]\n",
            " [0.78762765 0.16605984 0.04631251]\n",
            " [0.78841191 0.16511377 0.04647433]\n",
            " [0.83315725 0.13337848 0.03346427]\n",
            " [0.8581578  0.1144121  0.02743011]\n",
            " [0.81903903 0.14322524 0.03773573]\n",
            " [0.82586397 0.13820585 0.03593017]\n",
            " [0.81332224 0.14703968 0.03963808]\n",
            " [0.74359684 0.1952651  0.06113805]\n",
            " [0.75683546 0.18725531 0.05590923]\n",
            " [0.81197731 0.14850103 0.03952166]\n",
            " [0.77199466 0.1766151  0.05139024]\n",
            " [0.79297978 0.16163207 0.04538814]\n",
            " [0.86650189 0.10849635 0.02500176]\n",
            " [0.83046556 0.13524514 0.0342893 ]\n",
            " [0.83595021 0.1312645  0.03278529]\n",
            " [0.80445967 0.1538727  0.04166763]\n",
            " [0.73605417 0.20131459 0.06263124]\n",
            " [0.76959517 0.17718847 0.05321636]\n",
            " [0.78097413 0.17026509 0.04876078]\n",
            " [0.80192608 0.15562208 0.04245184]\n",
            " [0.81086825 0.14932189 0.03980986]\n",
            " [0.12714381 0.45111536 0.42174082]\n",
            " [0.1357437  0.45532607 0.40893022]\n",
            " [0.11405811 0.45076294 0.43517895]\n",
            " [0.25323554 0.44387616 0.3028883 ]\n",
            " [0.16307879 0.45354432 0.38337689]\n",
            " [0.144743   0.45252583 0.40273117]\n",
            " [0.09986627 0.44587366 0.45426007]\n",
            " [0.13790177 0.45435713 0.4077411 ]\n",
            " [0.1644329  0.45906609 0.376501  ]\n",
            " [0.16950236 0.45790067 0.37259698]\n",
            " [0.16758484 0.45579409 0.37662107]\n",
            " [0.10307352 0.44959258 0.44733389]\n",
            " [0.13220696 0.4538449  0.41394814]\n",
            " [0.07626487 0.43180274 0.49193239]\n",
            " [0.24257585 0.44728172 0.31014244]\n",
            " [0.19466201 0.4567346  0.34860339]\n",
            " [0.06393251 0.42336703 0.51270046]\n",
            " [0.13107558 0.44921084 0.41971358]\n",
            " [0.103504   0.45024871 0.44624729]\n",
            " [0.14654125 0.45556572 0.39789302]\n",
            " [0.11189178 0.44922835 0.43887987]\n",
            " [0.24515213 0.44633182 0.30851605]\n",
            " [0.15946931 0.455969   0.38456169]\n",
            " [0.13992266 0.45531073 0.40476661]\n",
            " [0.15363246 0.45532636 0.39104118]\n",
            " [0.05731328 0.41333699 0.52934972]\n",
            " [0.04539182 0.40077917 0.55382901]\n",
            " [0.02286063 0.35373686 0.6234025 ]\n",
            " [0.0291347  0.37330817 0.59755713]\n",
            " [0.03379798 0.37378817 0.59241385]\n",
            " [0.05057064 0.40709525 0.54233411]\n",
            " [0.0550821  0.41026766 0.53465024]\n",
            " [0.05321587 0.40412535 0.54265878]\n",
            " [0.02723971 0.3628914  0.60986889]\n",
            " [0.05902864 0.42149352 0.51947784]\n",
            " [0.06615556 0.41944804 0.5143964 ]\n",
            " [0.06974715 0.42623355 0.50401929]\n",
            " [0.03942359 0.39263569 0.56794072]\n",
            " [0.07774329 0.43037839 0.49187832]\n",
            " [0.04506033 0.40400649 0.55093318]\n",
            " [0.03564715 0.38359542 0.58075742]\n",
            " [0.069417   0.42921159 0.50137141]\n",
            " [0.02971812 0.36996491 0.60031697]\n",
            " [0.05262786 0.40949378 0.53787835]\n",
            " [0.05187434 0.40620857 0.54191709]\n",
            " [0.06024042 0.41259961 0.52715997]\n",
            " [0.03537539 0.37925925 0.58536536]\n",
            " [0.05357263 0.40572657 0.5407008 ]\n",
            " [0.05894227 0.41429288 0.52676486]\n",
            " [0.06668151 0.42222932 0.51108916]]\n"
          ],
          "name": "stdout"
        },
        {
          "output_type": "stream",
          "text": [
            "/usr/local/lib/python3.6/dist-packages/sklearn/neural_network/_multilayer_perceptron.py:571: ConvergenceWarning: Stochastic Optimizer: Maximum iterations (1000) reached and the optimization hasn't converged yet.\n",
            "  % self.max_iter, ConvergenceWarning)\n"
          ],
          "name": "stderr"
        }
      ]
    },
    {
      "cell_type": "markdown",
      "metadata": {
        "id": "Tm9yhKIiZHwE"
      },
      "source": [
        "Kmeans Clusttering \n",
        "\n",
        "---\n",
        "\n",
        "\n",
        "\n"
      ]
    },
    {
      "cell_type": "code",
      "metadata": {
        "colab": {
          "base_uri": "https://localhost:8080/",
          "height": 282
        },
        "id": "UmvFTc4bYoNU",
        "outputId": "60670b92-bd29-4293-9b82-8cdd4737952d"
      },
      "source": [
        "#Kmeans Clusttering for iris dataset(on class 0 and 2) \n",
        "kmeans = KMeans(n_clusters=5)\n",
        "y = kmeans.fit_predict(X)\n",
        "plt.scatter(X[:, 0], X[:, 2], c=y, cmap=\"rainbow\")"
      ],
      "execution_count": 14,
      "outputs": [
        {
          "output_type": "execute_result",
          "data": {
            "text/plain": [
              "<matplotlib.collections.PathCollection at 0x7f5dd7aa4748>"
            ]
          },
          "metadata": {
            "tags": []
          },
          "execution_count": 14
        },
        {
          "output_type": "display_data",
          "data": {
            "image/png": "[encoded data removed]",
            "text/plain": [
              "<Figure size 432x288 with 1 Axes>"
            ]
          },
          "metadata": {
            "tags": [],
            "needs_background": "light"
          }
        }
      ]
    },
    {
      "cell_type": "code",
      "metadata": {
        "colab": {
          "base_uri": "https://localhost:8080/",
          "height": 265
        },
        "id": "Vb7syLtgaFvc",
        "outputId": "3a66a0ac-b90e-4415-943b-97becc2411d4"
      },
      "source": [
        "kmeans = KMeans(n_clusters=5, init='k-means++', max_iter=400, n_init=10, random_state=0)\n",
        "pred_y = kmeans.fit_predict(X)\n",
        "plt.scatter(X[:,0], X[:,2])\n",
        "plt.scatter(kmeans.cluster_centers_[:, 0], kmeans.cluster_centers_[:, 2], s=350, c='green')\n",
        "plt.show()"
      ],
      "execution_count": 23,
      "outputs": [
        {
          "output_type": "display_data",
          "data": {
            "image/png": "[encoded data removed]",
            "text/plain": [
              "<Figure size 432x288 with 1 Axes>"
            ]
          },
          "metadata": {
            "tags": [],
            "needs_background": "light"
          }
        }
      ]
    }
  ]
}